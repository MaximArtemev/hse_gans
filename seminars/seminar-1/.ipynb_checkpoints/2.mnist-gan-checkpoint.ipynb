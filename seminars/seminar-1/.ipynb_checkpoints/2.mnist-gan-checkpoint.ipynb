{
 "cells": [
  {
   "cell_type": "code",
   "execution_count": 1,
   "metadata": {},
   "outputs": [],
   "source": [
    "import os\n",
    "os.environ[\"CUDA_VISIBLE_DEVICES\"]=\"3\" # set gpu number to use\n",
    "\n",
    "from comet_ml import Experiment\n",
    "\n",
    "from tqdm import tqdm_notebook as tqdm\n",
    "\n",
    "import torch\n",
    "import torch.nn as nn\n",
    "import torch.utils as utils\n",
    "import torch.nn.init as init\n",
    "from torch.autograd import Variable\n",
    "import torchvision.utils as v_utils\n",
    "from torchvision import datasets\n",
    "import torchvision.transforms as transforms\n",
    "from torchvision.utils import make_grid\n",
    "\n",
    "import numpy as np\n",
    "import matplotlib.pyplot as plt\n",
    "\n",
    "%matplotlib inline"
   ]
  },
  {
   "cell_type": "code",
   "execution_count": 2,
   "metadata": {},
   "outputs": [],
   "source": [
    "batch_size = 64 # по какому количеству объектов выборки будем делать апдейт весов\n",
    "device = 'cuda' # или 'cpu' если гпушек нет\n",
    "\n",
    "mnist_transforms = transforms.Compose([ # Compose совмешает несколько операций transforms в одну\n",
    "    transforms.ToTensor(), # PIL Image -> Tensor\n",
    "    transforms.Normalize([0.5], [0.5]) # input = (input - 0.5) / 0.5 -> x \\sim input \\in [-1, 1]\n",
    "])"
   ]
  },
  {
   "cell_type": "code",
   "execution_count": 3,
   "metadata": {},
   "outputs": [],
   "source": [
    "# Зададим обучающую и тестовую выборки через torchvision\n",
    "\n",
    "data_path = \"../../../data/\"\n",
    "\n",
    "train_dataset = datasets.MNIST(data_path,\n",
    "                               train=True,\n",
    "                               transform=mnist_transforms,\n",
    "                               target_transform=None,\n",
    "                               download=True)\n",
    "\n",
    "train_loader = torch.utils.data.DataLoader(dataset=train_dataset,\n",
    "                                           batch_size=batch_size,\n",
    "                                           shuffle=True,\n",
    "                                           drop_last=True)\n"
   ]
  },
  {
   "cell_type": "code",
   "execution_count": 4,
   "metadata": {},
   "outputs": [
    {
     "name": "stdout",
     "output_type": "stream",
     "text": [
      "Label: 9\n"
     ]
    },
    {
     "data": {
      "image/png": "[encoded data removed]",
      "text/plain": [
       "<Figure size 432x288 with 1 Axes>"
      ]
     },
     "metadata": {
      "needs_background": "light"
     },
     "output_type": "display_data"
    }
   ],
   "source": [
    "img, label = next(iter(train_loader))\n",
    "print(f'Label: {label[0]}')\n",
    "plt.imshow(img[0, 0, :,:])\n",
    "plt.show()"
   ]
  },
  {
   "cell_type": "code",
   "execution_count": 5,
   "metadata": {},
   "outputs": [],
   "source": [
    "class Generator(nn.Module):\n",
    "    def __init__(self):\n",
    "        super(Generator,self).__init__()\n",
    "        self.upsample = nn.Upsample(\n",
    "            scale_factor=2,\n",
    "            mode='bilinear',\n",
    "            align_corners=True\n",
    "        )\n",
    "        self.layers = nn.Sequential(\n",
    "            nn.Conv2d(1, 16, 3, padding=1), # 16x7x7\n",
    "            nn.BatchNorm2d(16),\n",
    "            nn.LeakyReLU(),\n",
    "            self.upsample, # 16x14x14\n",
    "            nn.Conv2d(16, 32, 5, padding=2), # 32x14x14\n",
    "            nn.BatchNorm2d(32), \n",
    "            nn.LeakyReLU(),\n",
    "            self.upsample, # 32x28x28\n",
    "            nn.Conv2d(32, 32, 5, padding=2), # 32x28x28\n",
    "            nn.BatchNorm2d(32), \n",
    "            nn.LeakyReLU(),\n",
    "            nn.Conv2d(32, 32, 3, padding=1), # 32x28x28\n",
    "            nn.BatchNorm2d(32), \n",
    "            nn.LeakyReLU(),\n",
    "        )\n",
    "        self.final_layers = nn.Sequential(\n",
    "            nn.Conv2d(32, 1, 3, padding=1), # 1x28x28\n",
    "            nn.Tanh(), # 1x28x28 \\in [-1, 1]\n",
    "        )\n",
    "        \n",
    "        \n",
    "    def forward(self, x):\n",
    "        x = x.view(x.size(0), 1, 7, 7)\n",
    "        x = self.layers(x)\n",
    "        return self.final_layers(x)"
   ]
  },
  {
   "cell_type": "code",
   "execution_count": 6,
   "metadata": {},
   "outputs": [],
   "source": [
    "class Discriminator(nn.Module):\n",
    "    def __init__(self):\n",
    "        super(Discriminator,self).__init__()\n",
    "        self.layers = nn.Sequential(\n",
    "            nn.Conv2d(1, 16, 7, stride=2, padding=3), # 16x14x14\n",
    "            nn.BatchNorm2d(16),\n",
    "            nn.LeakyReLU(),\n",
    "            nn.Conv2d(16, 32, 5, stride=2, padding=2), # 32x7x7\n",
    "            nn.BatchNorm2d(32), \n",
    "            nn.LeakyReLU(),\n",
    "            nn.Conv2d(32, 32, 3, padding=1), # 32x7x7\n",
    "            nn.BatchNorm2d(32), \n",
    "            nn.LeakyReLU(),\n",
    "            nn.Conv2d(32, 1, 3, padding=1), # 1x7x7\n",
    "            nn.LeakyReLU()\n",
    "        )\n",
    "        self.final_layers = nn.Sequential(\n",
    "            nn.Linear(1*7*7, 1)\n",
    "        )\n",
    "    def forward(self,x):\n",
    "        x = self.layers(x)\n",
    "        x = x.view(x.size(0), -1)\n",
    "        return self.final_layers(x)"
   ]
  },
  {
   "cell_type": "code",
   "execution_count": 7,
   "metadata": {
    "scrolled": true
   },
   "outputs": [
    {
     "name": "stdout",
     "output_type": "stream",
     "text": [
      "----------------------------------------------------------------\n",
      "        Layer (type)               Output Shape         Param #\n",
      "================================================================\n",
      "            Conv2d-1             [-1, 16, 7, 7]             160\n",
      "       BatchNorm2d-2             [-1, 16, 7, 7]              32\n",
      "         LeakyReLU-3             [-1, 16, 7, 7]               0\n",
      "          Upsample-4           [-1, 16, 14, 14]               0\n",
      "          Upsample-5           [-1, 16, 14, 14]               0\n",
      "            Conv2d-6           [-1, 32, 14, 14]          12,832\n",
      "       BatchNorm2d-7           [-1, 32, 14, 14]              64\n",
      "         LeakyReLU-8           [-1, 32, 14, 14]               0\n",
      "          Upsample-9           [-1, 32, 28, 28]               0\n",
      "         Upsample-10           [-1, 32, 28, 28]               0\n",
      "           Conv2d-11           [-1, 32, 28, 28]          25,632\n",
      "      BatchNorm2d-12           [-1, 32, 28, 28]              64\n",
      "        LeakyReLU-13           [-1, 32, 28, 28]               0\n",
      "           Conv2d-14           [-1, 32, 28, 28]           9,248\n",
      "      BatchNorm2d-15           [-1, 32, 28, 28]              64\n",
      "        LeakyReLU-16           [-1, 32, 28, 28]               0\n",
      "           Conv2d-17            [-1, 1, 28, 28]             289\n",
      "             Tanh-18            [-1, 1, 28, 28]               0\n",
      "================================================================\n",
      "Total params: 48,385\n",
      "Trainable params: 48,385\n",
      "Non-trainable params: 0\n",
      "----------------------------------------------------------------\n",
      "Input size (MB): 0.00\n",
      "Forward/backward pass size (MB): 1.75\n",
      "Params size (MB): 0.18\n",
      "Estimated Total Size (MB): 1.94\n",
      "----------------------------------------------------------------\n",
      "None\n"
     ]
    }
   ],
   "source": [
    "from torchsummary import summary\n",
    "\n",
    "generator = Generator().to(device)\n",
    "print(summary(generator, (7*7, )))"
   ]
  },
  {
   "cell_type": "code",
   "execution_count": 8,
   "metadata": {
    "scrolled": true
   },
   "outputs": [
    {
     "name": "stdout",
     "output_type": "stream",
     "text": [
      "----------------------------------------------------------------\n",
      "        Layer (type)               Output Shape         Param #\n",
      "================================================================\n",
      "            Conv2d-1           [-1, 16, 14, 14]             800\n",
      "       BatchNorm2d-2           [-1, 16, 14, 14]              32\n",
      "         LeakyReLU-3           [-1, 16, 14, 14]               0\n",
      "            Conv2d-4             [-1, 32, 7, 7]          12,832\n",
      "       BatchNorm2d-5             [-1, 32, 7, 7]              64\n",
      "         LeakyReLU-6             [-1, 32, 7, 7]               0\n",
      "            Conv2d-7             [-1, 32, 7, 7]           9,248\n",
      "       BatchNorm2d-8             [-1, 32, 7, 7]              64\n",
      "         LeakyReLU-9             [-1, 32, 7, 7]               0\n",
      "           Conv2d-10              [-1, 1, 7, 7]             289\n",
      "        LeakyReLU-11              [-1, 1, 7, 7]               0\n",
      "           Linear-12                    [-1, 1]              50\n",
      "================================================================\n",
      "Total params: 23,379\n",
      "Trainable params: 23,379\n",
      "Non-trainable params: 0\n",
      "----------------------------------------------------------------\n",
      "Input size (MB): 0.00\n",
      "Forward/backward pass size (MB): 0.14\n",
      "Params size (MB): 0.09\n",
      "Estimated Total Size (MB): 0.24\n",
      "----------------------------------------------------------------\n",
      "None\n"
     ]
    }
   ],
   "source": [
    "discriminator = Discriminator().to(device)\n",
    "print(summary(discriminator, (1, 28, 28)))\n"
   ]
  },
  {
   "cell_type": "code",
   "execution_count": 9,
   "metadata": {},
   "outputs": [
    {
     "name": "stderr",
     "output_type": "stream",
     "text": [
      "COMET INFO: Experiment is live on comet.ml https://www.comet.ml/maximartemev/hse-gans/6d7e14c8d6694fd8b3b3618ca9e394d6\n",
      "\n"
     ]
    }
   ],
   "source": [
    "experiment = Experiment(api_key = 'HIZapbzNjFips0c32Co7gXkQZ', \n",
    "                        project_name=\"hse-gans\", workspace=\"maximartemev\"\n",
    "                       )\n",
    "\n",
    "LR = 0.001\n",
    "\n",
    "optimizer_G = torch.optim.Adam(generator.parameters(), lr=LR)\n",
    "optimizer_D = torch.optim.Adam(discriminator.parameters(), lr=LR)\n",
    "\n",
    "criterion = torch.nn.BCEWithLogitsLoss()\n",
    "\n",
    "n_epochs = 10\n",
    "\n",
    "def sample_noise(batch, dims, mean=0, std=0.1):\n",
    "    z = nn.init.normal_(torch.zeros(batch, dims, device=device), mean=mean, std=std)\n",
    "    return z"
   ]
  },
  {
   "cell_type": "code",
   "execution_count": 10,
   "metadata": {},
   "outputs": [
    {
     "data": {
      "application/vnd.jupyter.widget-view+json": {
       "model_id": "1510fcdaeca047c08aa72de2b77dab23",
       "version_major": 2,
       "version_minor": 0
      },
      "text/plain": [
       "HBox(children=(IntProgress(value=0, description='Epoch loop', max=10), HTML(value='')))"
      ]
     },
     "metadata": {},
     "output_type": "display_data"
    },
    {
     "data": {
      "application/vnd.jupyter.widget-view+json": {
       "model_id": "",
       "version_major": 2,
       "version_minor": 0
      },
      "text/plain": [
       "HBox(children=(IntProgress(value=1, bar_style='info', description='Train loop', max=1), HTML(value='')))"
      ]
     },
     "metadata": {},
     "output_type": "display_data"
    },
    {
     "data": {
      "application/vnd.jupyter.widget-view+json": {
       "model_id": "",
       "version_major": 2,
       "version_minor": 0
      },
      "text/plain": [
       "HBox(children=(IntProgress(value=1, bar_style='info', description='Train loop', max=1), HTML(value='')))"
      ]
     },
     "metadata": {},
     "output_type": "display_data"
    },
    {
     "data": {
      "application/vnd.jupyter.widget-view+json": {
       "model_id": "",
       "version_major": 2,
       "version_minor": 0
      },
      "text/plain": [
       "HBox(children=(IntProgress(value=1, bar_style='info', description='Train loop', max=1), HTML(value='')))"
      ]
     },
     "metadata": {},
     "output_type": "display_data"
    },
    {
     "data": {
      "application/vnd.jupyter.widget-view+json": {
       "model_id": "",
       "version_major": 2,
       "version_minor": 0
      },
      "text/plain": [
       "HBox(children=(IntProgress(value=1, bar_style='info', description='Train loop', max=1), HTML(value='')))"
      ]
     },
     "metadata": {},
     "output_type": "display_data"
    },
    {
     "data": {
      "application/vnd.jupyter.widget-view+json": {
       "model_id": "",
       "version_major": 2,
       "version_minor": 0
      },
      "text/plain": [
       "HBox(children=(IntProgress(value=1, bar_style='info', description='Train loop', max=1), HTML(value='')))"
      ]
     },
     "metadata": {},
     "output_type": "display_data"
    },
    {
     "data": {
      "application/vnd.jupyter.widget-view+json": {
       "model_id": "",
       "version_major": 2,
       "version_minor": 0
      },
      "text/plain": [
       "HBox(children=(IntProgress(value=1, bar_style='info', description='Train loop', max=1), HTML(value='')))"
      ]
     },
     "metadata": {},
     "output_type": "display_data"
    },
    {
     "data": {
      "application/vnd.jupyter.widget-view+json": {
       "model_id": "",
       "version_major": 2,
       "version_minor": 0
      },
      "text/plain": [
       "HBox(children=(IntProgress(value=1, bar_style='info', description='Train loop', max=1), HTML(value='')))"
      ]
     },
     "metadata": {},
     "output_type": "display_data"
    },
    {
     "data": {
      "application/vnd.jupyter.widget-view+json": {
       "model_id": "",
       "version_major": 2,
       "version_minor": 0
      },
      "text/plain": [
       "HBox(children=(IntProgress(value=1, bar_style='info', description='Train loop', max=1), HTML(value='')))"
      ]
     },
     "metadata": {},
     "output_type": "display_data"
    },
    {
     "data": {
      "application/vnd.jupyter.widget-view+json": {
       "model_id": "",
       "version_major": 2,
       "version_minor": 0
      },
      "text/plain": [
       "HBox(children=(IntProgress(value=1, bar_style='info', description='Train loop', max=1), HTML(value='')))"
      ]
     },
     "metadata": {},
     "output_type": "display_data"
    },
    {
     "data": {
      "application/vnd.jupyter.widget-view+json": {
       "model_id": "",
       "version_major": 2,
       "version_minor": 0
      },
      "text/plain": [
       "HBox(children=(IntProgress(value=1, bar_style='info', description='Train loop', max=1), HTML(value='')))"
      ]
     },
     "metadata": {},
     "output_type": "display_data"
    },
    {
     "name": "stderr",
     "output_type": "stream",
     "text": [
      "COMET INFO: ----------------------------\n",
      "COMET INFO: Comet.ml Experiment Summary:\n",
      "COMET INFO:   Data:\n",
      "COMET INFO:     url: https://www.comet.ml/maximartemev/hse-gans/6d7e14c8d6694fd8b3b3618ca9e394d6\n",
      "COMET INFO:   Metrics [count] (min, max):\n",
      "COMET INFO:     Discriminator loss [9370]     : (0.00013241033593658358, 3.9649698734283447)\n",
      "COMET INFO:     Generator loss [9370]         : (0.1734861135482788, 19.127635955810547)\n",
      "COMET INFO:     loss [1874]                   : (0.0001454521989217028, 15.294649124145508)\n",
      "COMET INFO:     sys.gpu.0.free_memory [14]    : (9024438272.0, 9024438272.0)\n",
      "COMET INFO:     sys.gpu.0.gpu_utilization [14]: (0.0, 0.0)\n",
      "COMET INFO:     sys.gpu.0.total_memory        : (11995578368.0, 11995578368.0)\n",
      "COMET INFO:     sys.gpu.0.used_memory [14]    : (2971140096.0, 2971140096.0)\n",
      "COMET INFO:     sys.gpu.1.free_memory [14]    : (732037120.0, 732037120.0)\n",
      "COMET INFO:     sys.gpu.1.gpu_utilization [14]: (0.0, 0.0)\n",
      "COMET INFO:     sys.gpu.1.total_memory        : (11995578368.0, 11995578368.0)\n",
      "COMET INFO:     sys.gpu.1.used_memory [14]    : (11263541248.0, 11263541248.0)\n",
      "COMET INFO:     sys.gpu.2.free_memory [14]    : (8301445120.0, 8301445120.0)\n",
      "COMET INFO:     sys.gpu.2.gpu_utilization [14]: (76.0, 88.0)\n",
      "COMET INFO:     sys.gpu.2.total_memory        : (11995578368.0, 11995578368.0)\n",
      "COMET INFO:     sys.gpu.2.used_memory [14]    : (3694133248.0, 3694133248.0)\n",
      "COMET INFO:     sys.gpu.3.free_memory [14]    : (8856010752.0, 9033220096.0)\n",
      "COMET INFO:     sys.gpu.3.gpu_utilization [14]: (0.0, 59.0)\n",
      "COMET INFO:     sys.gpu.3.total_memory        : (11995578368.0, 11995578368.0)\n",
      "COMET INFO:     sys.gpu.3.used_memory [14]    : (2962358272.0, 3139567616.0)\n",
      "COMET INFO:   Uploads:\n",
      "COMET INFO:     figures: 19\n",
      "COMET INFO: ----------------------------\n"
     ]
    },
    {
     "name": "stdout",
     "output_type": "stream",
     "text": [
      "\n"
     ]
    },
    {
     "name": "stderr",
     "output_type": "stream",
     "text": [
      "COMET INFO: Uploading stats to Comet before program termination (may take several seconds)\n"
     ]
    },
    {
     "data": {
      "text/plain": [
       "<Figure size 720x720 with 0 Axes>"
      ]
     },
     "metadata": {},
     "output_type": "display_data"
    },
    {
     "data": {
      "text/plain": [
       "<Figure size 720x720 with 0 Axes>"
      ]
     },
     "metadata": {},
     "output_type": "display_data"
    },
    {
     "data": {
      "text/plain": [
       "<Figure size 720x720 with 0 Axes>"
      ]
     },
     "metadata": {},
     "output_type": "display_data"
    },
    {
     "data": {
      "text/plain": [
       "<Figure size 720x720 with 0 Axes>"
      ]
     },
     "metadata": {},
     "output_type": "display_data"
    },
    {
     "data": {
      "text/plain": [
       "<Figure size 720x720 with 0 Axes>"
      ]
     },
     "metadata": {},
     "output_type": "display_data"
    },
    {
     "data": {
      "text/plain": [
       "<Figure size 720x720 with 0 Axes>"
      ]
     },
     "metadata": {},
     "output_type": "display_data"
    },
    {
     "data": {
      "text/plain": [
       "<Figure size 720x720 with 0 Axes>"
      ]
     },
     "metadata": {},
     "output_type": "display_data"
    },
    {
     "data": {
      "text/plain": [
       "<Figure size 720x720 with 0 Axes>"
      ]
     },
     "metadata": {},
     "output_type": "display_data"
    },
    {
     "data": {
      "text/plain": [
       "<Figure size 720x720 with 0 Axes>"
      ]
     },
     "metadata": {},
     "output_type": "display_data"
    },
    {
     "data": {
      "text/plain": [
       "<Figure size 720x720 with 0 Axes>"
      ]
     },
     "metadata": {},
     "output_type": "display_data"
    },
    {
     "data": {
      "text/plain": [
       "<Figure size 720x720 with 0 Axes>"
      ]
     },
     "metadata": {},
     "output_type": "display_data"
    },
    {
     "data": {
      "text/plain": [
       "<Figure size 720x720 with 0 Axes>"
      ]
     },
     "metadata": {},
     "output_type": "display_data"
    },
    {
     "data": {
      "text/plain": [
       "<Figure size 720x720 with 0 Axes>"
      ]
     },
     "metadata": {},
     "output_type": "display_data"
    },
    {
     "data": {
      "text/plain": [
       "<Figure size 720x720 with 0 Axes>"
      ]
     },
     "metadata": {},
     "output_type": "display_data"
    },
    {
     "data": {
      "text/plain": [
       "<Figure size 720x720 with 0 Axes>"
      ]
     },
     "metadata": {},
     "output_type": "display_data"
    },
    {
     "data": {
      "text/plain": [
       "<Figure size 720x720 with 0 Axes>"
      ]
     },
     "metadata": {},
     "output_type": "display_data"
    },
    {
     "data": {
      "text/plain": [
       "<Figure size 720x720 with 0 Axes>"
      ]
     },
     "metadata": {},
     "output_type": "display_data"
    },
    {
     "data": {
      "text/plain": [
       "<Figure size 720x720 with 0 Axes>"
      ]
     },
     "metadata": {},
     "output_type": "display_data"
    },
    {
     "data": {
      "text/plain": [
       "<Figure size 720x720 with 0 Axes>"
      ]
     },
     "metadata": {},
     "output_type": "display_data"
    }
   ],
   "source": [
    "sample_interval = 500\n",
    "\n",
    "for epoch in tqdm(range(n_epochs), desc='Epoch loop'):\n",
    "    for iter_ind, (imgs, _) in tqdm(enumerate(train_loader), desc='Train loop', leave=False):\n",
    "        \n",
    "        ones = torch.ones(imgs.size(0), 1, device=device)\n",
    "        zeros = torch.zeros(imgs.size(0), 1, device=device)\n",
    "        step = epoch * len(train_loader) + iter_ind\n",
    "        \n",
    "        # generator update\n",
    "        optimizer_G.zero_grad()\n",
    "        fake_imgs = generator(sample_noise(imgs.size(0), 7*7))\n",
    "        loss_G = criterion(discriminator(fake_imgs), ones)\n",
    "        loss_G.backward()\n",
    "        optimizer_G.step()\n",
    "        \n",
    "        # discriminator update\n",
    "        optimizer_D.zero_grad()\n",
    "        fake_imgs = generator(sample_noise(imgs.size(0), 7*7))\n",
    "        err_real = criterion(discriminator(imgs.to(device)), ones)\n",
    "        err_fake = criterion(discriminator(fake_imgs), zeros)\n",
    "        loss_D = err_real + err_fake\n",
    "        loss_D.backward()\n",
    "        optimizer_D.step()\n",
    "        \n",
    "        experiment.log_metrics({'Generator loss': loss_G.item(),\n",
    "                                'Discriminator loss': loss_D.item()},\n",
    "                                epoch = epoch,\n",
    "                                step = step)        \n",
    "\n",
    "        if step % sample_interval == 0:\n",
    "            plt.figure(figsize = (10,10))\n",
    "\n",
    "            plt.title(\n",
    "                f\"[Epoch {epoch}/{n_epochs}]\" + \\\n",
    "                f\"[Batch {step%len(train_loader)}/{len(train_loader)}]\" + \\\n",
    "                f\"[D loss: {loss_D.item()}] [G loss: {loss_G.item()}]\"\n",
    "            )\n",
    "\n",
    "            plt.imshow(make_grid(fake_imgs.data[:25]).cpu().detach().numpy()[0, :, :])\n",
    "            experiment.log_figure()\n",
    "            plt.clf()\n",
    "experiment.end()"
   ]
  },
  {
   "cell_type": "code",
   "execution_count": 11,
   "metadata": {},
   "outputs": [
    {
     "data": {
      "image/png": "[encoded data removed]",
      "text/plain": [
       "<Figure size 720x720 with 1 Axes>"
      ]
     },
     "metadata": {
      "needs_background": "light"
     },
     "output_type": "display_data"
    }
   ],
   "source": [
    "plt.figure(figsize = (10,10))\n",
    "\n",
    "plt.title(\n",
    "    f\"[Epoch {epoch}/{n_epochs}]\" + \\\n",
    "    f\"[Batch {step%len(train_loader)}/{len(train_loader)}]\" + \\\n",
    "    f\"[D loss: {loss_D.item()}] [G loss: {loss_G.item()}]\"\n",
    ")\n",
    "\n",
    "plt.imshow(make_grid(fake_imgs.data[:25]).cpu().detach().numpy()[0, :, :])\n",
    "plt.show()"
   ]
  },
  {
   "cell_type": "code",
   "execution_count": null,
   "metadata": {},
   "outputs": [],
   "source": []
  }
 ],
 "metadata": {
  "kernelspec": {
   "display_name": "Python 3",
   "language": "python",
   "name": "python3"
  },
  "language_info": {
   "codemirror_mode": {
    "name": "ipython",
    "version": 3
   },
   "file_extension": ".py",
   "mimetype": "text/x-python",
   "name": "python",
   "nbconvert_exporter": "python",
   "pygments_lexer": "ipython3",
   "version": "3.6.6"
  }
 },
 "nbformat": 4,
 "nbformat_minor": 2
}
