{
 "cells": [
  {
   "cell_type": "markdown",
   "metadata": {},
   "source": [
    "<a href=\"https://colab.research.google.com/github/MaximArtemev/hse_gans/blob/master/seminars/seminar-5_6/5_6.vae.ipynb\" target=\"_parent\"><img src=\"https://colab.research.google.com/assets/colab-badge.svg\" alt=\"Open In Colab\"/></a>"
   ]
  },
  {
   "cell_type": "code",
   "execution_count": 1,
   "metadata": {},
   "outputs": [
    {
     "name": "stderr",
     "output_type": "stream",
     "text": [
      "COMET INFO: Experiment is live on comet.ml https://www.comet.ml/holybayes/hse-gans-vae-1/81406501a09d4450b908ce95a074fb8b\n",
      "\n"
     ]
    }
   ],
   "source": [
    "# import comet_ml in the top of your file\n",
    "from comet_ml import Experiment\n",
    "    \n",
    "# Add the following code anywhere in your machine learning file\n",
    "experiment = Experiment(api_key=\"lODeHEtCf7XLaV6DJrOfugNcA\",\n",
    "                        project_name=\"hse-gans-vae-1\", workspace=\"holybayes\")\n",
    "\n",
    "import torch\n",
    "import torch.utils.data\n",
    "from torch import nn, optim\n",
    "from torch.nn import functional as F\n",
    "from torchvision import datasets, transforms\n",
    "from torchvision.utils import save_image\n",
    "from torchvision.utils import make_grid\n",
    "\n",
    "\n",
    "seed=1\n",
    "device = torch.device(\"cuda\" if torch.cuda.is_available() else \"cpu\")"
   ]
  },
  {
   "cell_type": "markdown",
   "metadata": {},
   "source": [
    "# Dataset\n",
    "MNIST dataset will be used"
   ]
  },
  {
   "cell_type": "code",
   "execution_count": 2,
   "metadata": {},
   "outputs": [],
   "source": [
    "batch_size=128\n",
    "kwargs = {'num_workers': 1, 'pin_memory': True} if torch.cuda.is_available() else {}\n",
    "train_loader = torch.utils.data.DataLoader(\n",
    "    datasets.MNIST('./data', train=True, download=True,\n",
    "                   transform=transforms.ToTensor()),\n",
    "    batch_size=batch_size, shuffle=True, **kwargs)\n",
    "test_loader = torch.utils.data.DataLoader(\n",
    "    datasets.MNIST('./data', train=False, transform=transforms.ToTensor()),\n",
    "    batch_size=batch_size, shuffle=True, **kwargs)"
   ]
  },
  {
   "cell_type": "markdown",
   "metadata": {},
   "source": [
    "## AE model"
   ]
  },
  {
   "cell_type": "code",
   "execution_count": 3,
   "metadata": {},
   "outputs": [],
   "source": [
    "class AE(nn.Module):\n",
    "    def __init__(self):\n",
    "        super(AE, self).__init__()\n",
    "\n",
    "        self.encoder = nn.Sequential(\n",
    "            nn.Linear(784, 400),\n",
    "            nn.ReLU(),\n",
    "            nn.Linear(400, 20)\n",
    "        )\n",
    "        \n",
    "        self.decoder = nn.Sequential(\n",
    "            nn.Linear(20, 400),\n",
    "            nn.ReLU(),\n",
    "            nn.Linear(400, 784),\n",
    "            nn.Sigmoid()\n",
    "        )\n",
    "\n",
    "    def encode(self, x): return self.encoder(x.view(-1,28*28))\n",
    "    def decode(self, z): return self.decoder(z).view(-1,28,28)\n",
    "    def forward(self, x): return self.decode(self.encode(x))\n",
    "    def sample(self, size): return self.decode(torch.randn(size,20).to(self.device)) \n",
    "    \n",
    "    @property\n",
    "    def device(self): return next(self.parameters()).device\n",
    "\n",
    "\n",
    "model = AE().to(device)\n",
    "optimizer = optim.Adam(model.parameters(), lr=1e-3)"
   ]
  },
  {
   "cell_type": "markdown",
   "metadata": {},
   "source": [
    "## Train model"
   ]
  },
  {
   "cell_type": "code",
   "execution_count": 5,
   "metadata": {},
   "outputs": [
    {
     "name": "stdout",
     "output_type": "stream",
     "text": [
      "====> Epoch: 1 Average loss: 28.2380\n",
      "====> Epoch: 2 Average loss: 11.4331\n",
      "====> Epoch: 3 Average loss: 9.5636\n",
      "====> Epoch: 4 Average loss: 8.7124\n",
      "====> Epoch: 5 Average loss: 8.1656\n",
      "====> Epoch: 6 Average loss: 7.7557\n",
      "====> Epoch: 7 Average loss: 7.4489\n",
      "====> Epoch: 8 Average loss: 7.1876\n",
      "====> Epoch: 9 Average loss: 6.9836\n",
      "====> Epoch: 10 Average loss: 6.7976\n"
     ]
    }
   ],
   "source": [
    "def recon_loss(recon_x, x):\n",
    "    MSE = F.mse_loss(recon_x.view(-1, 784), x.view(-1, 784), reduction='sum')\n",
    "    return MSE\n",
    "\n",
    "\n",
    "log_interval=10\n",
    "epochs=10\n",
    "\n",
    "def train(epoch):\n",
    "    model.train()\n",
    "    train_loss = 0\n",
    "    for batch_idx, (data, _) in enumerate(train_loader):\n",
    "        data = data.to(device)\n",
    "        optimizer.zero_grad()\n",
    "        recon_batch = model(data)\n",
    "        loss = recon_loss(recon_batch, data)\n",
    "        loss.backward()\n",
    "        train_loss += loss.item()\n",
    "        optimizer.step()\n",
    "        if batch_idx % log_interval == 0:\n",
    "            experiment.log_metric('ae/train/loss', loss.item() / len(data), step=batch_idx, epoch=epoch)\n",
    "            \n",
    "    print('====> Epoch: {} Average loss: {:.4f}'.format(\n",
    "          epoch, train_loss / len(train_loader.dataset)))\n",
    "\n",
    "\n",
    "def test(epoch):\n",
    "    model.eval()\n",
    "    test_loss = 0\n",
    "    with torch.no_grad():\n",
    "        for i, (data, _) in enumerate(test_loader):\n",
    "            data = data.to(device)\n",
    "            recon_batch = model(data)\n",
    "            test_loss += recon_loss(recon_batch, data).item()\n",
    "                \n",
    "    test_loss /= len(test_loader.dataset)\n",
    "    experiment.log_metric('ae/test/loss', test_loss, epoch=epoch)\n",
    "\n",
    "for epoch in range(1, epochs + 1):\n",
    "    train(epoch)\n",
    "    test(epoch)\n",
    "    with torch.no_grad():\n",
    "        sample_size=64\n",
    "        sample = model.sample(sample_size).cpu()\n",
    "        log_img = make_grid(sample.view(-1,1,28,28)).permute((1,2,0))\n",
    "        experiment.log_image(log_img,name='ae/sample',step=epoch)"
   ]
  },
  {
   "cell_type": "markdown",
   "metadata": {},
   "source": [
    "## VAE model"
   ]
  },
  {
   "cell_type": "code",
   "execution_count": 6,
   "metadata": {},
   "outputs": [],
   "source": [
    "class VAE(nn.Module):\n",
    "    def __init__(self):\n",
    "        super(VAE, self).__init__()\n",
    "\n",
    "        # Encoder\n",
    "        self.fc1 = nn.Linear(784, 400)\n",
    "        self.fc21 = nn.Linear(400, 20) # mu head\n",
    "        self.fc22 = nn.Linear(400, 20) # sigma head\n",
    "        \n",
    "        # Decoder\n",
    "        self.fc3 = nn.Linear(20, 400)\n",
    "        self.fc4 = nn.Linear(400, 784)\n",
    "\n",
    "    def encode(self, x):\n",
    "        h1 = F.relu(self.fc1(x))\n",
    "        return self.fc21(h1), self.fc22(h1)\n",
    "\n",
    "    def reparameterize(self, mu, logvar):\n",
    "        std = torch.exp(0.5*logvar)\n",
    "        eps = torch.randn_like(std)\n",
    "        return mu + eps*std\n",
    "\n",
    "    def decode(self, z):\n",
    "        h3 = F.relu(self.fc3(z))\n",
    "        return torch.sigmoid(self.fc4(h3))\n",
    "\n",
    "    def forward(self, x):\n",
    "        mu, logvar = self.encode(x.view(-1, 784))\n",
    "        z = self.reparameterize(mu, logvar)\n",
    "        return self.decode(z), mu, logvar\n",
    "    \n",
    "    def sample(self, size):\n",
    "        sample = torch.randn(size, 20).to(self.device)\n",
    "        return model.decode(sample).view(-1,28,28)\n",
    "    \n",
    "    @property\n",
    "    def device(self): return next(self.parameters()).device\n",
    "\n",
    "\n",
    "model = VAE().to(device)\n",
    "optimizer = optim.Adam(model.parameters(), lr=1e-3)"
   ]
  },
  {
   "cell_type": "markdown",
   "metadata": {},
   "source": [
    "## Train VAE"
   ]
  },
  {
   "cell_type": "code",
   "execution_count": 7,
   "metadata": {},
   "outputs": [
    {
     "name": "stdout",
     "output_type": "stream",
     "text": [
      "====> Epoch: 1 Average loss: 45.4823\n",
      "====> Epoch: 2 Average loss: 35.0653\n",
      "====> Epoch: 3 Average loss: 33.2043\n",
      "====> Epoch: 4 Average loss: 32.3159\n",
      "====> Epoch: 5 Average loss: 31.7516\n",
      "====> Epoch: 6 Average loss: 31.4142\n",
      "====> Epoch: 7 Average loss: 31.1500\n",
      "====> Epoch: 8 Average loss: 30.9440\n",
      "====> Epoch: 9 Average loss: 30.7579\n",
      "====> Epoch: 10 Average loss: 30.6381\n"
     ]
    }
   ],
   "source": [
    "def loss_function(recon_x, x, mu, logvar):\n",
    "    MSE = F.mse_loss(recon_x.view(-1,784), x.view(-1, 784), reduction='sum')\n",
    "    KLD = -0.5 * torch.sum(1 + logvar - mu.pow(2) - logvar.exp())\n",
    "    return MSE, KLD\n",
    "\n",
    "\n",
    "log_interval=10\n",
    "epochs=10\n",
    "\n",
    "def train(epoch):\n",
    "    model.train()\n",
    "    train_mse, train_kld, train_loss = 0, 0, 0\n",
    "    for batch_idx, (data, _) in enumerate(train_loader):\n",
    "        data = data.to(device)\n",
    "        optimizer.zero_grad()\n",
    "        recon_batch, mu, logvar = model(data)\n",
    "        mse_loss, kld_loss = loss_function(recon_batch, data, mu, logvar)\n",
    "        loss = mse_loss + kld_loss\n",
    "        loss.backward()\n",
    "        train_loss += loss.item();\n",
    "        train_mse += mse_loss.item(); train_kld += kld_loss.item()\n",
    "        optimizer.step()\n",
    "        if batch_idx % log_interval == 0:\n",
    "            experiment.log_metrics({'vae/train/mse': mse_loss.item()/len(data),\n",
    "                                    'vae/train/kld': kld_loss.item()/len(data),\n",
    "                                    'vae/train/loss': loss.item()/len(data)\n",
    "                                   }, step=batch_idx, epoch=epoch)\n",
    "\n",
    "    print('====> Epoch: {} Average loss: {:.4f}'.format(\n",
    "          epoch, train_loss / len(train_loader.dataset)))\n",
    "\n",
    "\n",
    "def test(epoch):\n",
    "    model.eval()\n",
    "    test_loss, kld_loss, mse_loss = 0, 0, 0\n",
    "    with torch.no_grad():\n",
    "        for i, (data, _) in enumerate(test_loader):\n",
    "            data = data.to(device)\n",
    "            recon_batch, mu, logvar = model(data)\n",
    "            mse, kld = loss_function(recon_batch, data, mu, logvar)\n",
    "            mse_loss += mse.item()\n",
    "            kld_loss += kld.item()\n",
    "            test_loss += mse.item() + kld.item()\n",
    "\n",
    "    test_loss,kld_loss,mse_loss = [x/len(test_loader.dataset) for x in [test_loss,kld_loss,mse_loss]]\n",
    "    experiment.log_metrics({'vae/test/loss': test_loss, 'vae/test/kld': kld_loss, 'vae/test/mse': mse_loss}, epoch=epoch)\n",
    "    \n",
    "\n",
    "for epoch in range(1, epochs + 1):\n",
    "    train(epoch)\n",
    "    test(epoch)\n",
    "    with torch.no_grad():\n",
    "        sample = model.sample(64).cpu()\n",
    "        log_img = make_grid(sample.view(-1,1,28,28)).permute((1,2,0))\n",
    "        experiment.log_image(log_img,name='vae/sample',step=epoch)"
   ]
  },
  {
   "cell_type": "markdown",
   "metadata": {},
   "source": [
    "# TODO\n",
    "* Try on cifar (images) and celeba (faces)"
   ]
  },
  {
   "cell_type": "markdown",
   "metadata": {},
   "source": [
    "# Links\n",
    "\n",
    "[simple explanation (towardsds)](https://towardsdatascience.com/understanding-variational-autoencoders-vaes-f70510919f73)\n",
    "\n",
    "[ELBO inference](https://chrisorm.github.io/VI-ELBO.html)"
   ]
  },
  {
   "cell_type": "code",
   "execution_count": null,
   "metadata": {},
   "outputs": [],
   "source": []
  }
 ],
 "metadata": {
  "kernelspec": {
   "display_name": "Python 3",
   "language": "python",
   "name": "python3"
  },
  "language_info": {
   "codemirror_mode": {
    "name": "ipython",
    "version": 3
   },
   "file_extension": ".py",
   "mimetype": "text/x-python",
   "name": "python",
   "nbconvert_exporter": "python",
   "pygments_lexer": "ipython3",
   "version": "3.6.10"
  }
 },
 "nbformat": 4,
 "nbformat_minor": 2
}
